{
 "cells": [
  {
   "cell_type": "markdown",
   "id": "eight-clock",
   "metadata": {},
   "source": [
    "## ESM Data"
   ]
  },
  {
   "cell_type": "code",
   "execution_count": 4,
   "id": "spiritual-script",
   "metadata": {
    "tags": []
   },
   "outputs": [],
   "source": [
    "import behapp as bhp\n",
    "import pandas as pd\n",
    "import datetime\n",
    "from datetime import date, timedelta\n",
    "import numpy as np\n",
    "from IPython.display import clear_output\n",
    "import time\n",
    "import numpy\n",
    "from behapp.data_processing.app_cleaning import app_cleaning\n",
    "from behapp.data_processing.Match_ESM_Passive import ESM_passivemeasures\n",
    "\n",
    "from geopy.distance import geodesic\n",
    "\n",
    "import warnings\n",
    "warnings.filterwarnings('ignore')\n"
   ]
  },
  {
   "cell_type": "code",
   "execution_count": 6,
   "id": "ab239acb-9e62-43b6-b568-01eaa7aaf8b7",
   "metadata": {},
   "outputs": [],
   "source": [
    "# Load ESM data\n",
    "ESM = pd.read_csv('/Users/annalangener/Nextcloud/CombiningMethodsMoodPrediction_Data/ESMCleaned.csv', sep=',')\n",
    "ESM = ESM.loc[ESM['questionListName'] != \"Interaction Assessment - Version 2\"]\n",
    "ESM = ESM.loc[ESM['questionListName'] != \"Signal Contingent Interaction\"]"
   ]
  },
  {
   "cell_type": "code",
   "execution_count": 7,
   "id": "peaceful-warrior",
   "metadata": {
    "tags": []
   },
   "outputs": [
    {
     "name": "stdout",
     "output_type": "stream",
     "text": [
      "TSCS2_5W3RE9                       \n",
      "--- 1381.9432127475739 seconds ---\n"
     ]
    }
   ],
   "source": [
    "BEHAPPID = [\"TSCS2_2JV3YK\",\"TSCS2_857ER8\",\"TSCS2_3HJ9LJ\",\"TSCS2_6B972L\",\"TSCS2_9C99HU\",\"TSCS2_4NXMUS\",\"TSCS2_4KUR2Z\",\"TSCS2_5MNS2N\",\"TSCS2_6BBRGP\",\n",
    "            \"TSCS2_7NJKV7\",\"TSCS2_5W3RE9\"]\n",
    "\n",
    "start_time1 = time.time()\n",
    "FullData = []\n",
    "\n",
    "for x in BEHAPPID:\n",
    "    participant = bhp.Participant(x)\n",
    "    print(x)\n",
    "    \n",
    "    # Load ESM_time per participant\n",
    "    ESM_time = ESM[ESM.loc[:,'BehappID'] == participant.human_friendly_id]\n",
    "    ESM_time.loc[:,'index_time'] = pd.to_datetime(ESM_time.loc[:,'index_time'])\n",
    "    ESM_time = ESM_time.reset_index()\n",
    "    ESM_time['Date'] = ESM_time[\"index_time\"]\n",
    "\n",
    "    \n",
    "    Data = ESM_passivemeasures(ESM_time = ESM_time, participant = participant,rule = [3,6,24],Lag = [0.5,1], app_cleaning_yn = True, Missing_Time = 24)\n",
    "    FullData.append([Data])\n",
    "\n",
    "print(\"--- %s seconds ---\" % (time.time() - start_time1))"
   ]
  },
  {
   "cell_type": "code",
   "execution_count": 8,
   "id": "fdd4e6a6-7051-4180-a70d-73463dae08ae",
   "metadata": {},
   "outputs": [],
   "source": [
    "FullData = pd.concat([pd.DataFrame(FullData[i][0]).loc[:,~pd.DataFrame(FullData[i][0]).columns.duplicated()].copy() for i in range(len(FullData))],ignore_index = True)"
   ]
  },
  {
   "cell_type": "code",
   "execution_count": 9,
   "id": "funny-victim",
   "metadata": {
    "tags": []
   },
   "outputs": [],
   "source": [
    "FullData.to_csv(\"/Users/annalangener/Nextcloud/CombiningMethodsMoodPrediction_Data/PassiveMeasures.csv\", sep=',', na_rep='NA')"
   ]
  }
 ],
 "metadata": {
  "kernelspec": {
   "display_name": "Python 3 (ipykernel)",
   "language": "python",
   "name": "python3"
  },
  "language_info": {
   "codemirror_mode": {
    "name": "ipython",
    "version": 3
   },
   "file_extension": ".py",
   "mimetype": "text/x-python",
   "name": "python",
   "nbconvert_exporter": "python",
   "pygments_lexer": "ipython3",
   "version": "3.9.10"
  }
 },
 "nbformat": 4,
 "nbformat_minor": 5
}
